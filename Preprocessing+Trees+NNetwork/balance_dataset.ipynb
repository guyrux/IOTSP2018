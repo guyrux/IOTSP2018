{
 "cells": [
  {
   "cell_type": "code",
   "execution_count": 1,
   "metadata": {},
   "outputs": [],
   "source": [
    "import pandas as pd\n",
    "import os\n",
    "import numpy as np\n",
    "from sklearn import tree\n",
    "import graphviz\n",
    "import pickle as pkl"
   ]
  },
  {
   "cell_type": "code",
   "execution_count": 2,
   "metadata": {},
   "outputs": [],
   "source": [
    "unbalanced_data = pd.read_csv(os.path.join('data', 'application_train_preprocessed.csv'))"
   ]
  },
  {
   "cell_type": "code",
   "execution_count": 3,
   "metadata": {
    "scrolled": true
   },
   "outputs": [
    {
     "data": {
      "text/html": [
       "<div>\n",
       "<style scoped>\n",
       "    .dataframe tbody tr th:only-of-type {\n",
       "        vertical-align: middle;\n",
       "    }\n",
       "\n",
       "    .dataframe tbody tr th {\n",
       "        vertical-align: top;\n",
       "    }\n",
       "\n",
       "    .dataframe thead th {\n",
       "        text-align: right;\n",
       "    }\n",
       "</style>\n",
       "<table border=\"1\" class=\"dataframe\">\n",
       "  <thead>\n",
       "    <tr style=\"text-align: right;\">\n",
       "      <th></th>\n",
       "      <th>NAME_CONTRACT_TYPE_Cash loans</th>\n",
       "      <th>NAME_CONTRACT_TYPE_Revolving loans</th>\n",
       "      <th>CODE_GENDER_F</th>\n",
       "      <th>CODE_GENDER_M</th>\n",
       "      <th>FLAG_OWN_REALTY_N</th>\n",
       "      <th>FLAG_OWN_REALTY_Y</th>\n",
       "      <th>CNT_CHILDREN_zero</th>\n",
       "      <th>CNT_CHILDREN_one</th>\n",
       "      <th>CNT_CHILDREN_two</th>\n",
       "      <th>CNT_CHILDREN_three</th>\n",
       "      <th>...</th>\n",
       "      <th>YEARS_EMPLOYED_20+</th>\n",
       "      <th>AMT_REQ_CREDIT_BUREAU_SUM_0</th>\n",
       "      <th>AMT_REQ_CREDIT_BUREAU_SUM_1</th>\n",
       "      <th>AMT_REQ_CREDIT_BUREAU_SUM_2</th>\n",
       "      <th>AMT_REQ_CREDIT_BUREAU_SUM_3</th>\n",
       "      <th>AMT_REQ_CREDIT_BUREAU_SUM_4</th>\n",
       "      <th>AMT_REQ_CREDIT_BUREAU_SUM_5</th>\n",
       "      <th>AMT_REQ_CREDIT_BUREAU_SUM_10</th>\n",
       "      <th>AMT_REQ_CREDIT_BUREAU_SUM_10+</th>\n",
       "      <th>TARGET</th>\n",
       "    </tr>\n",
       "  </thead>\n",
       "  <tbody>\n",
       "    <tr>\n",
       "      <th>0</th>\n",
       "      <td>1</td>\n",
       "      <td>0</td>\n",
       "      <td>0</td>\n",
       "      <td>1</td>\n",
       "      <td>1</td>\n",
       "      <td>0</td>\n",
       "      <td>0</td>\n",
       "      <td>1</td>\n",
       "      <td>0</td>\n",
       "      <td>0</td>\n",
       "      <td>...</td>\n",
       "      <td>0</td>\n",
       "      <td>0</td>\n",
       "      <td>1</td>\n",
       "      <td>0</td>\n",
       "      <td>0</td>\n",
       "      <td>0</td>\n",
       "      <td>0</td>\n",
       "      <td>0</td>\n",
       "      <td>0</td>\n",
       "      <td>0</td>\n",
       "    </tr>\n",
       "    <tr>\n",
       "      <th>1</th>\n",
       "      <td>1</td>\n",
       "      <td>0</td>\n",
       "      <td>0</td>\n",
       "      <td>1</td>\n",
       "      <td>0</td>\n",
       "      <td>1</td>\n",
       "      <td>1</td>\n",
       "      <td>0</td>\n",
       "      <td>0</td>\n",
       "      <td>0</td>\n",
       "      <td>...</td>\n",
       "      <td>0</td>\n",
       "      <td>0</td>\n",
       "      <td>1</td>\n",
       "      <td>0</td>\n",
       "      <td>0</td>\n",
       "      <td>0</td>\n",
       "      <td>0</td>\n",
       "      <td>0</td>\n",
       "      <td>0</td>\n",
       "      <td>0</td>\n",
       "    </tr>\n",
       "    <tr>\n",
       "      <th>2</th>\n",
       "      <td>1</td>\n",
       "      <td>0</td>\n",
       "      <td>1</td>\n",
       "      <td>0</td>\n",
       "      <td>0</td>\n",
       "      <td>1</td>\n",
       "      <td>0</td>\n",
       "      <td>1</td>\n",
       "      <td>0</td>\n",
       "      <td>0</td>\n",
       "      <td>...</td>\n",
       "      <td>0</td>\n",
       "      <td>0</td>\n",
       "      <td>0</td>\n",
       "      <td>0</td>\n",
       "      <td>0</td>\n",
       "      <td>0</td>\n",
       "      <td>1</td>\n",
       "      <td>0</td>\n",
       "      <td>0</td>\n",
       "      <td>0</td>\n",
       "    </tr>\n",
       "    <tr>\n",
       "      <th>3</th>\n",
       "      <td>1</td>\n",
       "      <td>0</td>\n",
       "      <td>0</td>\n",
       "      <td>1</td>\n",
       "      <td>1</td>\n",
       "      <td>0</td>\n",
       "      <td>0</td>\n",
       "      <td>0</td>\n",
       "      <td>1</td>\n",
       "      <td>0</td>\n",
       "      <td>...</td>\n",
       "      <td>0</td>\n",
       "      <td>1</td>\n",
       "      <td>0</td>\n",
       "      <td>0</td>\n",
       "      <td>0</td>\n",
       "      <td>0</td>\n",
       "      <td>0</td>\n",
       "      <td>0</td>\n",
       "      <td>0</td>\n",
       "      <td>0</td>\n",
       "    </tr>\n",
       "    <tr>\n",
       "      <th>4</th>\n",
       "      <td>1</td>\n",
       "      <td>0</td>\n",
       "      <td>0</td>\n",
       "      <td>1</td>\n",
       "      <td>1</td>\n",
       "      <td>0</td>\n",
       "      <td>0</td>\n",
       "      <td>1</td>\n",
       "      <td>0</td>\n",
       "      <td>0</td>\n",
       "      <td>...</td>\n",
       "      <td>0</td>\n",
       "      <td>0</td>\n",
       "      <td>0</td>\n",
       "      <td>1</td>\n",
       "      <td>0</td>\n",
       "      <td>0</td>\n",
       "      <td>0</td>\n",
       "      <td>0</td>\n",
       "      <td>0</td>\n",
       "      <td>0</td>\n",
       "    </tr>\n",
       "  </tbody>\n",
       "</table>\n",
       "<p>5 rows × 206 columns</p>\n",
       "</div>"
      ],
      "text/plain": [
       "   NAME_CONTRACT_TYPE_Cash loans  NAME_CONTRACT_TYPE_Revolving loans  \\\n",
       "0                              1                                   0   \n",
       "1                              1                                   0   \n",
       "2                              1                                   0   \n",
       "3                              1                                   0   \n",
       "4                              1                                   0   \n",
       "\n",
       "   CODE_GENDER_F  CODE_GENDER_M  FLAG_OWN_REALTY_N  FLAG_OWN_REALTY_Y  \\\n",
       "0              0              1                  1                  0   \n",
       "1              0              1                  0                  1   \n",
       "2              1              0                  0                  1   \n",
       "3              0              1                  1                  0   \n",
       "4              0              1                  1                  0   \n",
       "\n",
       "   CNT_CHILDREN_zero  CNT_CHILDREN_one  CNT_CHILDREN_two  CNT_CHILDREN_three  \\\n",
       "0                  0                 1                 0                   0   \n",
       "1                  1                 0                 0                   0   \n",
       "2                  0                 1                 0                   0   \n",
       "3                  0                 0                 1                   0   \n",
       "4                  0                 1                 0                   0   \n",
       "\n",
       "    ...    YEARS_EMPLOYED_20+  AMT_REQ_CREDIT_BUREAU_SUM_0  \\\n",
       "0   ...                     0                            0   \n",
       "1   ...                     0                            0   \n",
       "2   ...                     0                            0   \n",
       "3   ...                     0                            1   \n",
       "4   ...                     0                            0   \n",
       "\n",
       "   AMT_REQ_CREDIT_BUREAU_SUM_1  AMT_REQ_CREDIT_BUREAU_SUM_2  \\\n",
       "0                            1                            0   \n",
       "1                            1                            0   \n",
       "2                            0                            0   \n",
       "3                            0                            0   \n",
       "4                            0                            1   \n",
       "\n",
       "   AMT_REQ_CREDIT_BUREAU_SUM_3  AMT_REQ_CREDIT_BUREAU_SUM_4  \\\n",
       "0                            0                            0   \n",
       "1                            0                            0   \n",
       "2                            0                            0   \n",
       "3                            0                            0   \n",
       "4                            0                            0   \n",
       "\n",
       "   AMT_REQ_CREDIT_BUREAU_SUM_5  AMT_REQ_CREDIT_BUREAU_SUM_10  \\\n",
       "0                            0                             0   \n",
       "1                            0                             0   \n",
       "2                            1                             0   \n",
       "3                            0                             0   \n",
       "4                            0                             0   \n",
       "\n",
       "   AMT_REQ_CREDIT_BUREAU_SUM_10+  TARGET  \n",
       "0                              0       0  \n",
       "1                              0       0  \n",
       "2                              0       0  \n",
       "3                              0       0  \n",
       "4                              0       0  \n",
       "\n",
       "[5 rows x 206 columns]"
      ]
     },
     "execution_count": 3,
     "metadata": {},
     "output_type": "execute_result"
    }
   ],
   "source": [
    "unbalanced_data.head()"
   ]
  },
  {
   "cell_type": "code",
   "execution_count": 4,
   "metadata": {},
   "outputs": [],
   "source": [
    "default = unbalanced_data[unbalanced_data['TARGET'] == 1]\n",
    "normal = unbalanced_data[unbalanced_data['TARGET'] == 0].iloc[:default.shape[0]]"
   ]
  },
  {
   "cell_type": "code",
   "execution_count": 5,
   "metadata": {},
   "outputs": [
    {
     "data": {
      "text/plain": [
       "[(3960, 206), (3960, 206)]"
      ]
     },
     "execution_count": 5,
     "metadata": {},
     "output_type": "execute_result"
    }
   ],
   "source": [
    "[default.shape, normal.shape]"
   ]
  },
  {
   "cell_type": "code",
   "execution_count": 6,
   "metadata": {},
   "outputs": [],
   "source": [
    "balanced_data = pd.concat([default, normal])"
   ]
  },
  {
   "cell_type": "code",
   "execution_count": 7,
   "metadata": {},
   "outputs": [
    {
     "data": {
      "text/plain": [
       "(7920, 206)"
      ]
     },
     "execution_count": 7,
     "metadata": {},
     "output_type": "execute_result"
    }
   ],
   "source": [
    "balanced_data.shape"
   ]
  },
  {
   "cell_type": "code",
   "execution_count": 8,
   "metadata": {},
   "outputs": [],
   "source": [
    "X = np.array(balanced_data.loc[:, balanced_data.columns != 'TARGET'])\n",
    "y = np.array(balanced_data.loc[:, balanced_data.columns == 'TARGET']).flatten()"
   ]
  },
  {
   "cell_type": "code",
   "execution_count": 9,
   "metadata": {},
   "outputs": [],
   "source": [
    "random_idxs = np.random.permutation(len(X))\n",
    "\n",
    "X = X[random_idxs]\n",
    "y = y[random_idxs]"
   ]
  },
  {
   "cell_type": "code",
   "execution_count": 10,
   "metadata": {},
   "outputs": [],
   "source": [
    "split_percentage = 80\n",
    "split_idx = int((split_percentage / 100.) * len(X))\n",
    "\n",
    "X_train = X[:split_idx]\n",
    "y_train = y[:split_idx]\n",
    "\n",
    "X_test = X[split_idx:]\n",
    "y_test = y[split_idx:]"
   ]
  },
  {
   "cell_type": "code",
   "execution_count": 11,
   "metadata": {},
   "outputs": [],
   "source": [
    "dataset_f = os.path.join('numpy', 'dataset.pkl')\n",
    "balanced_data_f = os.path.join('data', 'balanced_data.csv')\n",
    "\n",
    "dataset = X_train, y_train, X_test, y_test\n",
    "\n",
    "pkl.dump(dataset, open(dataset_f, 'wb'))\n",
    "balanced_data.to_csv(os.path.join('data', 'balanced_data.csv'), index=False)"
   ]
  }
 ],
 "metadata": {
  "kernelspec": {
   "display_name": "Python 3",
   "language": "python",
   "name": "python3"
  },
  "language_info": {
   "codemirror_mode": {
    "name": "ipython",
    "version": 3
   },
   "file_extension": ".py",
   "mimetype": "text/x-python",
   "name": "python",
   "nbconvert_exporter": "python",
   "pygments_lexer": "ipython3",
   "version": "3.5.2"
  }
 },
 "nbformat": 4,
 "nbformat_minor": 2
}
