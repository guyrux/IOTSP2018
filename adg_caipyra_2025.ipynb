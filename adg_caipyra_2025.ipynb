{
  "cells": [
    {
      "cell_type": "markdown",
      "metadata": {
        "id": "view-in-github",
        "colab_type": "text"
      },
      "source": [
        "<a href=\"https://colab.research.google.com/github/guyrux/IOTSP2018/blob/master/adg_caipyra_2025.ipynb\" target=\"_parent\"><img src=\"https://colab.research.google.com/assets/colab-badge.svg\" alt=\"Open In Colab\"/></a>"
      ]
    },
    {
      "cell_type": "markdown",
      "id": "22186db0",
      "metadata": {
        "id": "22186db0"
      },
      "source": [
        "<center>\n",
        "<img src=\"https://2025.caipyra.python.org.br/img/logo-caipyra.png\" />\n",
        "\n",
        "---\n",
        "    \n",
        "# Introdução à Análise de Dados Geoespaciais com Python\n",
        "\n",
        "</center>\n",
        "\n",
        "---"
      ]
    },
    {
      "cell_type": "markdown",
      "source": [
        "O objetivo do tutorial é realizar uma rápida introdução aos conceitos básicos e bibliotecas principais do ecossistema python essenciais para análise de dados geográficos."
      ],
      "metadata": {
        "id": "bbyOIQutw6gw"
      },
      "id": "bbyOIQutw6gw"
    },
    {
      "cell_type": "markdown",
      "source": [
        "<img src=\"https://images2.imgbox.com/33/85/LfpFCE1T_o.png\" width=\"80%\"/>"
      ],
      "metadata": {
        "id": "Jnm1WAEGd61N"
      },
      "id": "Jnm1WAEGd61N"
    },
    {
      "cell_type": "markdown",
      "id": "c659afa3",
      "metadata": {
        "id": "c659afa3"
      },
      "source": [
        "__Conteúdo:__\n",
        "\n",
        "- Introdução\n",
        "- Dados Espaciais\n",
        "    - Vetoriais\n",
        "    - Matriciais (*raster*)\n",
        "- GeoPandas\n",
        "- Sistemas de Coordenadas\n",
        "  - Projeções Espaciais\n",
        "- Operações geométricas comuns\n",
        "- Visualização de dados geoespaciais"
      ]
    },
    {
      "cell_type": "markdown",
      "id": "936293ba",
      "metadata": {
        "id": "936293ba"
      },
      "source": [
        "## Ferramentas e bibliotecas\n",
        "\n",
        "<center>\n",
        "    <img src=\"https://images2.imgbox.com/b6/2f/xLrsKueq_o.png\" width=80%/>\n",
        "</center>"
      ]
    },
    {
      "cell_type": "markdown",
      "source": [
        "* Ecossistema Python para GIS, Fonte: [Tenkanen, 2022](https://ecosystem.pythongis.org/).\n",
        "\n",
        "<img src=\"https://pythongis.org/_images/python-gis-ecosystem.png\" width=\"80%\"/>"
      ],
      "metadata": {
        "id": "ScLFyp3dx8Vz"
      },
      "id": "ScLFyp3dx8Vz"
    },
    {
      "cell_type": "markdown",
      "source": [
        "* [Google Colab ](https://www.google.com/url?sa=t&rct=j&q=&esrc=s&source=web&cd=&cad=rja&uact=8&ved=2ahUKEwjRgtCVrqDqAhUUKLkGHc6jDnQQFjAAegQIARAC&url=https%3A%2F%2Fcolab.research.google.com%2F&usg=AOvVaw3A5aPK2kLFzKOzb6sOckVw): serviço de nuvem gratuito hospedado pelo Google para incentivar a pesquisa de Aprendizado de Máquina e Inteligência Artificial;"
      ],
      "metadata": {
        "id": "TXrxjLRnylVb"
      },
      "id": "TXrxjLRnylVb"
    },
    {
      "cell_type": "markdown",
      "id": "cf7ba0bd",
      "metadata": {
        "id": "cf7ba0bd"
      },
      "source": [
        "## Referências de apoio:\n",
        "\n",
        "* [pandas](https://pandas.pydata.org/docs/getting_started/index.html#getting-started) é uma biblioteca para análise de dados em Python, de código aberto, licenciada por BSD, utiliza o conceito de dataframes que funcionam como uma matriz de dados, formada por linhas e colunas.\n",
        "\n",
        "* Documentação da biblioteca [matplotlib](https://matplotlib.org/).\n",
        "\n",
        "* Ciência de Dados com Reprodutibilidade usando Jupyter, disponível: https://doi.org/10.5753/sbc.6757.3.1\n",
        "\n",
        "* Introdução a análise de dados com python e pandas, disponívei em: http://www.enucomp.com.br/2017/enucomp_anaisX_2017.pdf\n",
        "\n",
        "* Introdução à Análise Exploratória de Dados com Python, disponível em https://ercas2019.enucompi.com.br/doc/livro_de_minicursos_ercas_pi_2019.pdf\n",
        "\n",
        "* Introdução à Análise de Dados Geoespaciais com Python, disponível em https://sol.sbc.org.br/livros/index.php/sbc/catalog/download/76/325/581-1?inline=1"
      ]
    },
    {
      "cell_type": "markdown",
      "source": [
        "# Introdução"
      ],
      "metadata": {
        "id": "kqPOVeiqxcrk"
      },
      "id": "kqPOVeiqxcrk"
    },
    {
      "cell_type": "markdown",
      "source": [
        "A análise de dados geoespaciais envolve o estudo de informações que possuem uma componente espacial, permitindo a compreensão de padrões, relações e fenômenos que ocorrem em um espaço geográfico. Python se consolidou como uma das principais ferramentas para esse tipo de análise, graças à sua flexibilidade, vasta biblioteca de pacotes especializados e uma comunidade ativa de usuários.\n",
        "\n"
      ],
      "metadata": {
        "id": "KJe8tEhqxf75"
      },
      "id": "KJe8tEhqxf75"
    },
    {
      "cell_type": "markdown",
      "source": [
        "## Análise Espacial"
      ],
      "metadata": {
        "id": "qvH9THGBnbY5"
      },
      "id": "qvH9THGBnbY5"
    },
    {
      "cell_type": "markdown",
      "id": "5ddf6d25",
      "metadata": {
        "id": "5ddf6d25"
      },
      "source": [
        "Consiste em mensurar propriedades e relacionamentos, levando em conta a localização espacial do fenômeno em estudo de forma explícita.\n",
        "\n",
        "Um exemplo pioneiro, onde intuitivamente se incorporou a categoria espaço às análises realizadas foi realizado no século XIX por John Snow.\n",
        "\n",
        "- Em 1885, ocorria em Londres uma das várias epidemias de cólera, pouco se sabia então sobre o mecanismos causais da doença.\n",
        "- Duas vertentes científicas procuravam explicá-la: uma relacionando-a aos miasmas, concentrados nas regiões bais e pantanosas da cidade, e outra à ingestão de água insalubre.\n",
        "\n",
        "<center>\n",
        "    <img src=\"https://upload.wikimedia.org/wikipedia/commons/thumb/c/c7/Snow-cholera-map.jpg/300px-Snow-cholera-map.jpg\" width=30%/>\n",
        "</center>\n",
        "\n",
        "O mapa localizada a residência dos óbitos ocasionadas pela doença e as bombas de água que abasteciam a cidade.\n"
      ]
    },
    {
      "cell_type": "markdown",
      "source": [
        "# Dados Espaciais"
      ],
      "metadata": {
        "id": "G-em-Wb0ngKp"
      },
      "id": "G-em-Wb0ngKp"
    },
    {
      "cell_type": "markdown",
      "id": "c6c026ba",
      "metadata": {
        "id": "c6c026ba"
      },
      "source": [
        "Para poder trabalhar com objetos geográficos do mundo real (como estradas ou lagos), precisamos representá-los em um formato que o computador possa entender e trabalhar.\n",
        "\n",
        "Essas representações são simplificações do mundo real que são tipicamente conhecidas como **dados espaciais**. Dados espaciais podem ser definidos como dados ou informações associados às coordenadas geográficas que representam a superfície terrestre. Esse tipo de dados possui duas propriedades:\n",
        "\n",
        "- magnitude da variação do atributo do fenômeno em estudo (valor da variável)\n",
        "\n",
        "- localização geográfica do atributo (como os dados estão localizados)\n",
        "\n",
        "Os dados espaciais podem ser dividos em: dados  e dados vetoriais.\n",
        "\n",
        "- **Dados matriciais (*raster*):** essa estrutura de dados armazena informações geográficas por meio de grades ou matrizes.\n",
        "    - Um exemplo clássico de dados *raster* são as imagens de satélite obtidas por meio de sensoriamento remoto, nas quais, cada pixel da imagem estará sempre associado a coordenadas geográficas que representam determinada região da superfície terrestre.\n",
        "- **Dados vetoriais:** essa estrutura de dados é representada por informações geográficas associadas a pontos, linhas e polígonos, padronizado pela ISO 19125 (https://www.ogc.org/standard/sfa/).\n",
        "    - Os limites de uma propriedade, a localização de um empreendimento e delimitações de estradas, biomas e bacias hidrográficas são exemplos de dados de natureza vetorial.\n"
      ]
    },
    {
      "cell_type": "markdown",
      "source": [
        "Exemplo de representações vetoriais e raster de estradas e edifícios.\n",
        "\n",
        "<img src=\"https://pythongis.org/_images/vector_vs_raster.png\" width=\"70%\" />\n",
        "\n"
      ],
      "metadata": {
        "id": "l2nqivvG_5Ns"
      },
      "id": "l2nqivvG_5Ns"
    },
    {
      "cell_type": "markdown",
      "source": [
        "## Dados vetoriais"
      ],
      "metadata": {
        "id": "p0BqGjGZnjXJ"
      },
      "id": "p0BqGjGZnjXJ"
    },
    {
      "cell_type": "markdown",
      "source": [
        "Os objetos geométricos mais fundamentais ao trabalhar com dados espaciais em formato vetorial são pontos, linhas e áreas.\n",
        "\n",
        "\n",
        "* **Ponto**: representa um simples ponto no espaço geográfico e a localização do ponto no espaço é determinada com coordenadas.\n",
        "* **linhas**: respresenta uma sequência de pontos a partir de uma linha.\n",
        "* **Polígonos**: representa uma área preenchida.\n",
        "\n",
        "\n",
        "Também é possível ter uma coleção de objetos geométricos (ou seja, vários pontos, linhas ou áreas) representados como MultiPoint, MultiLineString e MultiPolygon. As coleções de geometria podem ser úteis, por exemplo, quando você deseja apresentar vários polígonos de construção pertencentes à mesma propriedade como uma única entidade (como uma casa de veraneio finlandesa que normalmente tem um edifício de sauna separado). Além destes, você pode às vezes ouvir sobre outros objetos de geometria, como $\\verb!Curve!$, $\\verb!Surface!$ ou $\\verb!GeometryCollection!$, mas estes são basicamente implementados pelos mesmos tipos de geometria $\\verb!Point!$, $\\verb!LineString!$ e $\\verb!Polygon!$, portanto, não os usamos realmente na prática.\n",
        "\n",
        "Para maiores informações consulte: [Documentação shapely.](https://shapely.readthedocs.io/en/stable/manual.html#geometric-objects)"
      ],
      "metadata": {
        "id": "oi43HyUgAf_W"
      },
      "id": "oi43HyUgAf_W"
    },
    {
      "cell_type": "markdown",
      "id": "25537578",
      "metadata": {
        "id": "25537578"
      },
      "source": [
        "\n",
        "\n",
        "<center>\n",
        "    <img src=\"https://pythongis.org/_images/vector_data_model.png\" width=80%/>\n",
        "</center>\n",
        "\n",
        "E cada um deles também pode ser combinado em geometrias de várias partes (consulte  para uma visão geral)."
      ]
    },
    {
      "cell_type": "markdown",
      "id": "3a37dda2",
      "metadata": {
        "id": "3a37dda2"
      },
      "source": [
        "### A biblioteca `shapely`\n",
        "\n",
        "Os objetos geométricos individuais são fornecidos pela biblioteca [`shapely`] (https://shapely.readthedocs.io/en/stable/)"
      ]
    },
    {
      "cell_type": "code",
      "source": [
        "import warnings\n",
        "warnings.filterwarnings('ignore')"
      ],
      "metadata": {
        "id": "Am1382S1zJZo"
      },
      "id": "Am1382S1zJZo",
      "execution_count": null,
      "outputs": []
    },
    {
      "cell_type": "code",
      "execution_count": null,
      "id": "f5ed9006",
      "metadata": {
        "id": "f5ed9006"
      },
      "outputs": [],
      "source": [
        "from shapely.geometry import Point, LineString, Polygon, MultiPoint, MultiLineString, MultiPolygon"
      ]
    },
    {
      "cell_type": "code",
      "execution_count": null,
      "id": "042dd648",
      "metadata": {
        "id": "042dd648"
      },
      "outputs": [],
      "source": []
    },
    {
      "cell_type": "code",
      "execution_count": null,
      "id": "ec8ffa75",
      "metadata": {
        "id": "ec8ffa75"
      },
      "outputs": [],
      "source": []
    },
    {
      "cell_type": "markdown",
      "source": [
        "### Formatos para criar e compartilhar o conjunto de dados espaciais vetoriais"
      ],
      "metadata": {
        "id": "nUhP_r0HDuJG"
      },
      "id": "nUhP_r0HDuJG"
    },
    {
      "cell_type": "markdown",
      "id": "ff8eed8c",
      "metadata": {
        "id": "ff8eed8c"
      },
      "source": [
        "Dados vetoriais podem ser armazenados de diferentes maneiras. Duas das abordagens mais amplamente utilizadas são armazenar os dados em um arquivo de dados espaciais que é armazenado em disco ou armazenar os dados em um banco de dados com reconhecimento espacial, como o banco de dados PostGIS que suporta o armazenamento de dados espaciais.\n",
        "\n",
        "Ao armazenar dados em um arquivo de dados, há várias opções para escolher em termos de formatos de dados. Você pode facilmente ler e gravar dados vetoriais espaciais em aproximadamente oitenta formatos de arquivo diferentes que são suportados pela Geospatial Data Abstraction Library (GDAL). Abaixo, forneceremos informações sobre alguns formatos de dados vetoriais espaciais selecionados que são comumente usados para armazenar dados espaciais.\n",
        "\n",
        "- **GeoJSON:** é um formato de intercâmbio de dados geoespaciais de padrão aberto que representa características geográficas simples e seus atributos não espaciais, ou seja, informações não espaciais sobre uma característica geográfica.\n",
        "\n",
        "```\n",
        "{\"type\": \"FeatureCollection\",\n",
        "  \"features\": [\n",
        "    {\"type\": \"Feature\", \"properties\": {\"id\": 75553155, \"timestamp\": 1494181812},\n",
        "      \"geometry\": {\"type\": \"MultiLineString\",\n",
        "        \"coordinates\": [[[26.938, 60.520], [26.938, 60.520]], [[26.937, 60.521],\n",
        "                         [26.937, 60.521]], [[26.937, 60.521], [26.936, 60.522]]]\n",
        "      }\n",
        "    },\n",
        "    {\"type\": \"Feature\", \"properties\": {\"id\": 424099695, \"timestamp\": 1465572910},\n",
        "      \"geometry\": {\"type\": \"Polygon\",\n",
        "        \"coordinates\": [[[26.935, 60.521], [26.935, 60.521], [26.935, 60.521],\n",
        "                         [26.935, 60.521], [26.935, 60.521]]]\n",
        "      }\n",
        "    }\n",
        "  ]\n",
        "}\n",
        "```\n",
        "\n",
        "- $\\verb!shapefile!$: um formato não-topológico para bases de dados geoespaciais e vetoriais. É considerado um formato aberto, apesar de proprietário. O formato \\verb!shapefile! consiste numa coleção de arquivos de mesmo nome e terminações diferentes, com três arquivos obrigatórios para o funcionamento correto.\n",
        "\n",
        "    - $\\verb!.shp!$: contém a geometria;\n",
        "    - $\\verb!.prj!$: contém a projeção da geometria;\n",
        "    - $\\verb!.dbf!$: contém os atributos como uma tabela relacional."
      ]
    },
    {
      "cell_type": "markdown",
      "source": [
        "## Bases de Dados Geoespaciais"
      ],
      "metadata": {
        "id": "csM7aah3Do3X"
      },
      "id": "csM7aah3Do3X"
    },
    {
      "cell_type": "markdown",
      "id": "6f7925c3",
      "metadata": {
        "id": "6f7925c3"
      },
      "source": [
        "Precisamos agora ter acesso a um conjunto de dados geográficos e existem diversas plataformas governamentais que disponibilizam esses dados gratuitamente, como, por exemplo:\n",
        "\n",
        "- IBGE (Instituto Brasileiro de Geografia e Estatística)\n",
        "- ANA (Agência Nacional das Águas)\n",
        "- Secretaria de Infraestrutura e Meio Ambiente de São Paulo (SIMA)\n",
        "- Instituto Nacional de Pesquisas Espaciais (INPE)"
      ]
    },
    {
      "cell_type": "markdown",
      "id": "2c95e6a1",
      "metadata": {
        "id": "2c95e6a1"
      },
      "source": [
        "Outros repositórios de dados espaciais\n",
        "- https://www.geoaplicada.com/dados-espaciais/\n",
        "- https://geodacenter.github.io/data-and-lab/\n",
        "- https://inde.gov.br/\n",
        "\n",
        "Bases abertas de dados espaciais de Ribeirão Preto - SP\n",
        "- https://webgis.ribeiraopreto.sp.gov.br/portal/apps/sites/#/geoportal"
      ]
    },
    {
      "cell_type": "markdown",
      "source": [
        "### GEOBR\n",
        "\n",
        "O **geobr** é um pacote computacional para baixar conjuntos de dados espaciais oficiais do Brasil. O pacote inclui uma ampla gama de dados geoespaciais em formato geopackage (como shapefiles, mas melhor), disponível em várias escalas geográficas e por vários anos com atributos harmonizados, projeção e topologia (veja a lista detalhada de conjuntos de dados disponíveis abaixo).\n",
        "\n",
        "- O pacote está atualmente disponível em R e Python .\n",
        "\n",
        "- Maiores informações acesse: https://github.com/ipeaGIT/geobr"
      ],
      "metadata": {
        "id": "DIhuVNl0E6Ju"
      },
      "id": "DIhuVNl0E6Ju"
    },
    {
      "cell_type": "markdown",
      "id": "5f58c0fe",
      "metadata": {
        "id": "5f58c0fe"
      },
      "source": [
        "# Geopandas"
      ]
    },
    {
      "cell_type": "markdown",
      "id": "fecf8054",
      "metadata": {
        "id": "fecf8054"
      },
      "source": [
        "O GeoPandas é um projeto *open source* que foi criado para tornar a manipulação de dados geoespaciais em Python uma tarefa mais simples. Ele estende as estruturas de dados do Pandas, que são o dataframe e o series, possibilitando a manipulação e tratamento de arquivos dessa natureza.\n",
        "\n",
        "A estrutura de dados central do GeoPandas é $\\verb!geopandas.GeoDataFrame!$, uma subclasse do pandas.DataFrame capaz de armazenar colunas geométricas e realizar operações espaciais. As geometrias são tratadas como \\verb!geopandas.GeoSeries!, uma subclasse de \\$\\verb!pandas.Series!$. Portanto, seu GeoDataFrame é uma combinação de Series com seus dados (numéricos, booleanos, texto etc.) e GeoSeries com geometrias (pontos, polígonos e etc.)\n",
        "\n",
        "<center>\n",
        "    <img src=\"https://images2.imgbox.com/64/4a/JPMzRAuw_o.png\" width=80%/>\n",
        "</center>"
      ]
    },
    {
      "cell_type": "markdown",
      "id": "7b6b26f7",
      "metadata": {
        "id": "7b6b26f7"
      },
      "source": [
        "### Importando dados geoespaciais"
      ]
    },
    {
      "cell_type": "code",
      "source": [
        "##instalar o geodatasets e geobr\n",
        "!pip install geodatasets, geobr"
      ],
      "metadata": {
        "id": "PtwauGtBmn8R"
      },
      "id": "PtwauGtBmn8R",
      "execution_count": null,
      "outputs": []
    },
    {
      "cell_type": "code",
      "source": [],
      "metadata": {
        "id": "Fq9D11lpVbKr"
      },
      "id": "Fq9D11lpVbKr",
      "execution_count": null,
      "outputs": []
    },
    {
      "cell_type": "code",
      "execution_count": null,
      "id": "aff60b12",
      "metadata": {
        "id": "aff60b12"
      },
      "outputs": [],
      "source": [
        "## É possível também buscar os setores censitarios a partir do site do IBGE"
      ]
    },
    {
      "cell_type": "code",
      "source": [
        "## Usar dados do G Extract"
      ],
      "metadata": {
        "id": "40t7A7SAFwLQ"
      },
      "id": "40t7A7SAFwLQ",
      "execution_count": null,
      "outputs": []
    },
    {
      "cell_type": "code",
      "execution_count": null,
      "id": "2c03bcdb",
      "metadata": {
        "id": "2c03bcdb"
      },
      "outputs": [],
      "source": []
    },
    {
      "cell_type": "code",
      "execution_count": null,
      "id": "2a92880c",
      "metadata": {
        "id": "2a92880c"
      },
      "outputs": [],
      "source": []
    },
    {
      "cell_type": "markdown",
      "id": "5e65ce43",
      "metadata": {
        "id": "5e65ce43"
      },
      "source": [
        "> Um GeoDataFrame **ainda é um DataFrame**, então temos todas as funcionalidades do pandas disponíveis para usar no conjunto de dados geoespaciais e para fazer manipulações de dados com os atributos e informações de geometria juntos.\n"
      ]
    },
    {
      "cell_type": "markdown",
      "source": [
        "# Sistemas de referência de coordenadas"
      ],
      "metadata": {
        "id": "ZUyIEaINm5a3"
      },
      "id": "ZUyIEaINm5a3"
    },
    {
      "cell_type": "markdown",
      "id": "4490e0bc",
      "metadata": {
        "id": "4490e0bc"
      },
      "source": [
        "\n",
        "Até agora, usamos os dados de geometria com certas coordenadas sem nos perguntarmos mais o que essas coordenadas significam ou como são expressas.\n",
        "\n",
        "Ser capaz de se posicionar na Terra (e no universo) tem sido uma tarefa importante para os humanos há séculos. As informações espacialmente mais precisas sobre a localização de um objeto específico podem ser obtidas usando técnicas geodésicas.\n",
        "\n",
        "Geodésia é a ciência que se concentra em medir e entender com precisão diferentes propriedades da Terra, como sua forma, orientação no espaço e gravidade. Ela também fornece vários métodos fundamentais que nos permitem localizar a nós mesmos ao usar serviços de navegação, ou fazer análise espacial com GIS de forma significativa.\n",
        "\n",
        "> O **Sistema de Referência de Coordenadas (do inglês, *Coordinate Reference System - CRS* )** relaciona as coordenadas a um local específico na Terra.\n",
        "\n",
        "Um CRS informa às ferramentas GIS como as coordenadas ou geometrias estão relacionadas aos lugares na Terra. Em princípio, cada conjunto de dados geográficos deve ter informações específicas relacionadas ao CRS anexadas a ele (se não, pode ser difícil ou impossível usar os dados em GIS). Esse tipo de informação adicional é chamado de metadados, porque fornece informações contextuais importantes sobre o conjunto de dados, como CRS ou o registro de data e hora em que os dados foram criados.\n",
        "\n",
        "Que tipo de coisas são descritas com o Sistema de Referência de Coordenadas?\n",
        "\n",
        "- Um CRS normalmente descreve os dados geográficos com três componentes principais: **datum**, **projeção de mapa** e **parâmetros adicionais**.\n",
        "\n"
      ]
    },
    {
      "cell_type": "markdown",
      "source": [
        "Esses componentes fornecem informações sobre como os dados geográficos podem ser vinculados à superfície da Terra:\n",
        "\n",
        "1. **Datum:** Uma especificação de datum consiste em um modelo para o tamanho e a forma da Terra, como um elipsoide de referência ou um geoide, que descreve a superfície média do nível do mar da Terra. Um dos datums mais comumente usados ​​é o World Geodetic System (WGS84). O datum também contém informações sobre a origem do sistema de coordenadas, ou seja, o ponto de referência no qual o elipsoide/geoide está vinculado a um local conhecido na Terra. Isso é usado como referência para determinar a localização de outros pontos de controle que foram medidos com precisão a partir da origem. Os pontos de referência são úteis porque também podem ser usados ​​para verificar a precisão dos receptores GNSS/GPS. Finalmente, o datum inclui os parâmetros de orientação, que descrevem a orientação do sistema de coordenadas em relação à superfície da Terra. Eles contêm informações sobre a inclinação do eixo e a posição da origem em relação à superfície da Terra.\n",
        "\n",
        "2. **Projeção do mapa:** A projeção define a transformação matemática usada para mapear a superfície da Terra em um plano bidimensional. Cada projeção tem seus próprios pontos fortes e fracos, e a escolha da projeção depende do uso pretendido do mapa e da área a ser mapeada (veja mais detalhes abaixo).\n",
        "\n",
        "3. **Parâmetros adicionais:** Esses parâmetros definem informações adicionais necessárias para definir completamente o CRS, como o meridiano central, paralelo padrão e fator de escala. Esses parâmetros também podem incluir informações sobre a origem e orientação do sistema de coordenadas e a conversão entre as coordenadas projetadas e as coordenadas geográficas.\n",
        "\n",
        "\n",
        "Para obter uma boa explicação detalhada, consulte https://docs.qgis.org/2.8/en/docs/gentle_gis_introduction/coordinate_reference_systems.html"
      ],
      "metadata": {
        "id": "B_L_qMJNHeSA"
      },
      "id": "B_L_qMJNHeSA"
    },
    {
      "cell_type": "markdown",
      "source": [
        "## Coordenadas geográficas"
      ],
      "metadata": {
        "id": "yHMz1ho0m99N"
      },
      "id": "yHMz1ho0m99N"
    },
    {
      "cell_type": "markdown",
      "id": "65dc45f8",
      "metadata": {
        "id": "65dc45f8"
      },
      "source": [
        "> Graus de latitude e longitude.\n",
        ">\n",
        "> Ex. 48 ° 51′N, 2 ° 17′E\n",
        "\n",
        "O tipo de coordenadas mais conhecido são as coordenadas geográficas: definimos uma posição no globo em graus de latitude e longitude, em relação ao equador e ao meridiano principal.\n",
        "Com este sistema, podemos facilmente especificar qualquer local na Terra. É amplamente utilizado, por exemplo em GPS. Se você inspecionar as coordenadas de um local no Google Maps, também verá a latitude e a longitude.\n",
        "\n",
        "**Atenção!**\n",
        "\n",
        "em Python usamos (lon, lat) e não (lat, lon)\n",
        "\n",
        "- Longitude: [-180, 180] {{1}}\n",
        "- Latitude: [-90, 90] {{1}}"
      ]
    },
    {
      "cell_type": "markdown",
      "source": [
        "## Projeções espaciais"
      ],
      "metadata": {
        "id": "ZNrSzN5hm_Hb"
      },
      "id": "ZNrSzN5hm_Hb"
    },
    {
      "cell_type": "markdown",
      "id": "3f669dd5",
      "metadata": {
        "id": "3f669dd5"
      },
      "source": [
        "> Coordenadas `(x, y)` são geralmente em metros ou pés\n",
        "\n",
        "Embora a Terra seja um globo, na prática geralmente a representamos em uma superfície plana: pense em um mapa físico ou nas figuras que fizemos com Python na tela de nosso computador.\n",
        "Ir do globo para um mapa plano é o que chamamos de *projeção*.\n",
        "\n",
        "Projetamos a superfície da Terra em um plano 2D para que possamos expressar localizações em coordenadas cartesianas \\$x$ e \\$y$, em uma superfície plana. Nesse plano, normalmente trabalhamos com uma unidade de comprimento, como metros em vez de graus, o que torna a análise mais conveniente e eficaz.\n",
        "\n",
        "No entanto, há uma observação importante: a Terra tridimensional nunca pode ser representada perfeitamente em um mapa bidimensional, então as projeções inevitavelmente introduzem distorções. Para minimizar esses erros, existem diferentes projeções, cada uma com vantagens e desvantagens específicas.\n",
        "\n"
      ]
    },
    {
      "cell_type": "markdown",
      "source": [
        "A escolha de uma projeção deve se basear na precisão desejada, no impacto sobre o que se pretende analisar e no tipo de dado disponível. Diferentes projeções de mapas que podem ser usadas para representar dados geográficos em um plano bidimensional.\n",
        "\n",
        "<img src=\"https://pythongis.org/_images/projections.png\" width=\"60%\"/>\n",
        "\n",
        "Para este minicurso, utilizaremos $\\verb!latlong!$ e $\\verb!utm!$ para projeções; $\\verb!WGS84!$ e $\\verb!GRS80!$ para elipses; e $\\verb!WGS84!$, utilizado pelos sistemas de GPS e $\\verb!SIRGAS2000!$, oficialmente utilizado pelo Brasil (pois é a melhor representação da América Latina).\n"
      ],
      "metadata": {
        "id": "7T-AOjdQIkzt"
      },
      "id": "7T-AOjdQIkzt"
    },
    {
      "cell_type": "markdown",
      "id": "4db27a5d",
      "metadata": {
        "id": "4db27a5d"
      },
      "source": [
        "## CRS Python / GeoPandas"
      ]
    },
    {
      "cell_type": "markdown",
      "id": "2354388d",
      "metadata": {
        "id": "2354388d"
      },
      "source": [
        "Um GeoDataFrame ou GeoSeries tem um atributo `.crs` que contém (opcionalmente) uma descrição do sistema de referência de coordenadas das geometrias."
      ]
    },
    {
      "cell_type": "code",
      "execution_count": null,
      "id": "a208b0c8",
      "metadata": {
        "id": "a208b0c8"
      },
      "outputs": [],
      "source": []
    },
    {
      "cell_type": "code",
      "source": [],
      "metadata": {
        "id": "Awe7iIHf8WUr"
      },
      "id": "Awe7iIHf8WUr",
      "execution_count": null,
      "outputs": []
    },
    {
      "cell_type": "code",
      "source": [],
      "metadata": {
        "id": "V6n1e2AA8auY"
      },
      "id": "V6n1e2AA8auY",
      "execution_count": null,
      "outputs": []
    },
    {
      "cell_type": "markdown",
      "id": "03d4f77c",
      "metadata": {
        "id": "03d4f77c"
      },
      "source": [
        "O atributo `.crs` é fornecido como um dicionário. Nesse caso, indica apenas o código EPSG, mas também pode conter a string \"proj4\" completa (na forma de dicionário).\n",
        "\n",
        "Possível representação CRS:\n",
        "\n",
        "- **string `proj4`**\n",
        "  \n",
        "   Exemplo: `+ proj = longlat + datum = WGS84 + no_defs`\n",
        "\n",
        "   Ou sua representação dict: `{'proj': 'longlat', 'datum': 'WGS84', 'no_defs': True}`\n",
        "\n",
        "- **código EPSG**\n",
        "  \n",
        "   Exemplo: `EPSG: 4326` = WGS84 geográfico CRS (longitude, latitude)\n",
        "\n",
        "Veja, por exemplo, https://epsg.io/4326\n",
        "\n",
        "Por dentro, o GeoPandas usa as bibliotecas `pyproj`/` PROJ` para lidar com as reprojeções.\n",
        "\n",
        "Para obter mais informações, consulte http://geopandas.readthedocs.io/en/latest/projections.html."
      ]
    },
    {
      "cell_type": "code",
      "execution_count": null,
      "id": "ae0366a3",
      "metadata": {
        "id": "ae0366a3"
      },
      "outputs": [],
      "source": []
    },
    {
      "cell_type": "code",
      "execution_count": null,
      "id": "867eaad4",
      "metadata": {
        "scrolled": false,
        "id": "867eaad4"
      },
      "outputs": [],
      "source": []
    },
    {
      "cell_type": "code",
      "execution_count": null,
      "id": "259c88ed",
      "metadata": {
        "id": "259c88ed"
      },
      "outputs": [],
      "source": []
    },
    {
      "cell_type": "code",
      "execution_count": null,
      "id": "7b6f284e",
      "metadata": {
        "id": "7b6f284e"
      },
      "outputs": [],
      "source": []
    },
    {
      "cell_type": "markdown",
      "id": "bf91a6ad",
      "metadata": {
        "id": "bf91a6ad"
      },
      "source": [
        "## Reprojeção do CRS para projeção Mercator."
      ]
    },
    {
      "cell_type": "markdown",
      "id": "eb327b3a",
      "metadata": {
        "id": "eb327b3a"
      },
      "source": [
        "Podemos converter um GeoDataFrame para outro sistema de referência usando a função `to_crs`.\n",
        "\n",
        "Por exemplo, vamos converter para a projeção UTM Zona 22S Mercator (https://epsg.io/32722):"
      ]
    },
    {
      "cell_type": "code",
      "execution_count": null,
      "id": "c8954a72",
      "metadata": {
        "id": "c8954a72"
      },
      "outputs": [],
      "source": []
    },
    {
      "cell_type": "code",
      "source": [],
      "metadata": {
        "id": "VM7MQejy9t8B"
      },
      "id": "VM7MQejy9t8B",
      "execution_count": null,
      "outputs": []
    },
    {
      "cell_type": "markdown",
      "source": [
        "### Por que usar um CRS diferente?"
      ],
      "metadata": {
        "id": "k1YalOaonFCD"
      },
      "id": "k1YalOaonFCD"
    },
    {
      "cell_type": "markdown",
      "id": "5ebb139a",
      "metadata": {
        "id": "5ebb139a"
      },
      "source": [
        "\n",
        "Às vezes, há boas razões para você querer alterar o sistema de referências de coordenadas do seu conjunto de dados, por exemplo:\n",
        "\n",
        "- Fontes diferentes com CRS diferentes -> necessidade de converter para o mesmo crs\n",
        "\n",
        "     ```python\n",
        "    df1 = geopandas.read_file(...)\n",
        "    df2 = geopandas.read_file(...)\n",
        "\n",
        "    df2 = df2.to_crs(df1.crs)\n",
        "    ```\n",
        "\n",
        "- Mapeamento (distorção de forma e distâncias)\n",
        "\n",
        "- Cálculos baseados em distância / área -> certifique-se de usar um sistema de coordenadas projetadas apropriado expresso em uma unidade significativa, como metros ou pés (não graus).\n",
        "\n",
        "<div class = \"alert alert-info\">\n",
        "\n",
        "**ATENÇÃO:**\n",
        "\n",
        "Todos os cálculos que acontecem no geopandas e na lib shapely assumem que seus dados estão em um plano cartesiano 2D, e assim o resultado desses cálculos só estará correto se seus dados forem devidamente projetados.\n",
        "\n",
        "</div>"
      ]
    },
    {
      "cell_type": "code",
      "execution_count": null,
      "id": "11c1128f",
      "metadata": {
        "id": "11c1128f"
      },
      "outputs": [],
      "source": []
    },
    {
      "cell_type": "code",
      "execution_count": null,
      "id": "975e6229",
      "metadata": {
        "id": "975e6229"
      },
      "outputs": [],
      "source": []
    },
    {
      "cell_type": "markdown",
      "source": [
        "# Operações geométricas comuns"
      ],
      "metadata": {
        "id": "kHHvxNIrnJsy"
      },
      "id": "kHHvxNIrnJsy"
    },
    {
      "cell_type": "markdown",
      "source": [
        "Operações geométricas referem-se a um conjunto de métodos que podem ser usados para processar e analisar características geométricas, como pontos, linhas e polígonos. No contexto da análise de dados geoespaciais, essas operações nos permitem, por exemplo, fazer perguntas sobre como dois ou mais objetos geográficos se relacionam entre si: eles se cruzam, se tocam ou se sobrepõem? Eles são adjacentes um ao outro? Quão distantes estão?"
      ],
      "metadata": {
        "id": "3jS53QDjQzl9"
      },
      "id": "3jS53QDjQzl9"
    },
    {
      "cell_type": "markdown",
      "id": "60a2130a",
      "metadata": {
        "id": "60a2130a"
      },
      "source": [
        "Um aspecto importante dos dados geoespaciais é que podemos olhar para *relações espaciais*: como dois objetos espaciais se relacionam (se eles se sobrepõem, se cruzam, se contêm um ao outro, por exemplo).\n",
        "\n",
        "As relações topológicas e teóricas de conjuntos em GIS são normalmente baseadas no modelo DE-9IM. Consulte https://en.wikipedia.org/wiki/Spatial_relation para obter mais informações.\n"
      ]
    },
    {
      "cell_type": "code",
      "execution_count": null,
      "id": "73e3cf7f",
      "metadata": {
        "id": "73e3cf7f"
      },
      "outputs": [],
      "source": [
        "line = LineString([(0, 1), (4, 1)])\n",
        "\n",
        "ax = gpd.GeoSeries(line).plot(cmap=\"tab10\", figsize=(8,3))\n",
        "ax.set_axis_off();"
      ]
    },
    {
      "cell_type": "code",
      "execution_count": null,
      "id": "522ef22c",
      "metadata": {
        "id": "522ef22c"
      },
      "outputs": [],
      "source": [
        "dilated = line.buffer(0.5)\n",
        "\n",
        "ax = gpd.GeoSeries([line, dilated]).plot(cmap=\"tab10\", figsize=(8,3))\n",
        "ax.set_axis_off();"
      ]
    },
    {
      "cell_type": "code",
      "execution_count": null,
      "id": "2b614e6f",
      "metadata": {
        "id": "2b614e6f"
      },
      "outputs": [],
      "source": [
        "p1 =  MultiPoint([(0, 0), (0, 2), (1, 0), (1, 1), (2, 2), (3, 1)])\n",
        "\n",
        "ax = gpd.GeoSeries(p1).plot(cmap=\"tab10\", figsize=(8,3))\n",
        "ax.set_axis_off();"
      ]
    },
    {
      "cell_type": "code",
      "execution_count": null,
      "id": "1f38439f",
      "metadata": {
        "id": "1f38439f"
      },
      "outputs": [],
      "source": [
        "ax = gpd.GeoSeries(p1).convex_hull.plot(edgecolor='black', cmap=\"tab10\", figsize=(8,3))\n",
        "ax.set_axis_off();"
      ]
    },
    {
      "cell_type": "code",
      "execution_count": null,
      "id": "390e0522",
      "metadata": {
        "id": "390e0522"
      },
      "outputs": [],
      "source": [
        "line1 = LineString([(1, 2), (2, 2), (2, 1), (3, 1)])\n",
        "line2 = LineString([(2, 1), (3, 1), (3, 2), (4, 2)])\n",
        "\n",
        "ax = gpd.GeoSeries([line1, line2]).plot(cmap=\"tab10\", figsize=(8,3))\n",
        "ax.set_axis_off();"
      ]
    },
    {
      "cell_type": "code",
      "execution_count": null,
      "id": "47c7768e",
      "metadata": {
        "id": "47c7768e"
      },
      "outputs": [],
      "source": [
        "intersect = line1.intersection(line2)\n",
        "\n",
        "ax = gpd.GeoSeries(intersect).plot(cmap=\"tab10\", figsize=(8,3))\n",
        "ax.set_axis_off();"
      ]
    },
    {
      "cell_type": "code",
      "execution_count": null,
      "id": "3c143953",
      "metadata": {
        "id": "3c143953"
      },
      "outputs": [],
      "source": [
        "diferent = line1.difference(line2)\n",
        "\n",
        "ax = gpd.GeoSeries(diferent).plot(cmap=\"tab10\", figsize=(8,3))\n",
        "ax.set_axis_off();"
      ]
    },
    {
      "cell_type": "code",
      "execution_count": null,
      "id": "7934103f",
      "metadata": {
        "id": "7934103f"
      },
      "outputs": [],
      "source": [
        "sym_difference = line1.symmetric_difference(line2)\n",
        "\n",
        "ax = gpd.GeoSeries(sym_difference).plot(cmap=\"tab10\", figsize=(8,3))\n",
        "ax.set_axis_off();"
      ]
    },
    {
      "cell_type": "code",
      "execution_count": null,
      "id": "3edc2744",
      "metadata": {
        "id": "3edc2744"
      },
      "outputs": [],
      "source": [
        "p1 = Polygon([(2, 1), (1, 2), (1, 3), (2, 4), (4, 4), (5, 3), (5, 2), (4, 1)])\n",
        "p2 = Polygon([(3, 1), (6, 1), (6, 4), (3, 4)])\n",
        "\n",
        "ax = gpd.GeoSeries([p1, p2]).plot(cmap=\"tab10\", figsize=(8,3))\n",
        "ax.set_axis_off();"
      ]
    },
    {
      "cell_type": "code",
      "execution_count": null,
      "id": "3d0ea4c8",
      "metadata": {
        "id": "3d0ea4c8"
      },
      "outputs": [],
      "source": [
        "union = p1.union(p2)\n",
        "\n",
        "ax = gpd.GeoSeries(union).plot(cmap=\"tab10\", figsize=(8,3))\n",
        "ax.set_axis_off();"
      ]
    },
    {
      "cell_type": "code",
      "source": [],
      "metadata": {
        "id": "BWItYttpZodM"
      },
      "id": "BWItYttpZodM",
      "execution_count": null,
      "outputs": []
    },
    {
      "cell_type": "markdown",
      "source": [
        "## Spatial Joins"
      ],
      "metadata": {
        "id": "qEla2iWAAYA9"
      },
      "id": "qEla2iWAAYA9"
    },
    {
      "cell_type": "code",
      "source": [],
      "metadata": {
        "id": "cTweLUxq_Aod"
      },
      "id": "cTweLUxq_Aod",
      "execution_count": null,
      "outputs": []
    },
    {
      "cell_type": "code",
      "source": [],
      "metadata": {
        "id": "pcLSdv-F_AxS"
      },
      "id": "pcLSdv-F_AxS",
      "execution_count": null,
      "outputs": []
    },
    {
      "cell_type": "code",
      "source": [],
      "metadata": {
        "id": "Lj-yZbWiHPui"
      },
      "id": "Lj-yZbWiHPui",
      "execution_count": null,
      "outputs": []
    },
    {
      "cell_type": "code",
      "source": [],
      "metadata": {
        "id": "_DUA85GPISnM"
      },
      "id": "_DUA85GPISnM",
      "execution_count": null,
      "outputs": []
    },
    {
      "cell_type": "code",
      "source": [],
      "metadata": {
        "id": "xtIxe9DKISs3"
      },
      "id": "xtIxe9DKISs3",
      "execution_count": null,
      "outputs": []
    },
    {
      "cell_type": "markdown",
      "id": "cb98d980",
      "metadata": {
        "id": "cb98d980"
      },
      "source": [
        "<div class = \"alert alert-info\">\n",
        "\n",
        "**REFERÊNCIA**:\n",
        "\n",
        "Visão geral das diferentes funções para verificar as relações espaciais (* funções de predicado espacial *):\n",
        "\n",
        "* `equals`\n",
        "* `contains`\n",
        "* `crosses`\n",
        "* `disjoint`\n",
        "* `intersects`\n",
        "* `overlaps`\n",
        "* `touches`\n",
        "* `within`\n",
        "* `covers`\n",
        "\n",
        "\n",
        "Consulte https://shapely.readthedocs.io/en/stable/manual.html#predicates-and-relationships para uma visão geral desses métodos.\n",
        "\n",
        "Consulte https://en.wikipedia.org/wiki/DE-9IM para todos os detalhes sobre a semântica dessas operações.\n",
        "\n",
        "</div>"
      ]
    },
    {
      "cell_type": "markdown",
      "id": "c0409cdb",
      "metadata": {
        "id": "c0409cdb"
      },
      "source": [
        "# Visualização de dados geoespaciais"
      ]
    },
    {
      "cell_type": "markdown",
      "id": "9a8329bb",
      "metadata": {
        "id": "9a8329bb"
      },
      "source": [
        "## Mapas estáticos"
      ]
    },
    {
      "cell_type": "code",
      "execution_count": null,
      "id": "3ca3ae3a",
      "metadata": {
        "scrolled": false,
        "id": "3ca3ae3a"
      },
      "outputs": [],
      "source": []
    },
    {
      "cell_type": "markdown",
      "id": "0cdcfcaa",
      "metadata": {
        "id": "0cdcfcaa"
      },
      "source": [
        "### Ajustando o tamanho da imagem"
      ]
    },
    {
      "cell_type": "code",
      "execution_count": null,
      "id": "c38d5b61",
      "metadata": {
        "id": "c38d5b61"
      },
      "outputs": [],
      "source": []
    },
    {
      "cell_type": "markdown",
      "id": "ecabec82",
      "metadata": {
        "id": "ecabec82"
      },
      "source": [
        "### Removendo o box de labels das coordenadas"
      ]
    },
    {
      "cell_type": "code",
      "execution_count": null,
      "id": "5299109e",
      "metadata": {
        "id": "5299109e"
      },
      "outputs": [],
      "source": []
    },
    {
      "cell_type": "markdown",
      "id": "fec01dbd",
      "metadata": {
        "id": "fec01dbd"
      },
      "source": [
        "### Colorindo baseado em uma coluna\n",
        "\n",
        "Vamos primeiro criar uma nova coluna com a área de cada setor censitários:"
      ]
    },
    {
      "cell_type": "code",
      "execution_count": null,
      "id": "dff6d98d",
      "metadata": {
        "id": "dff6d98d"
      },
      "outputs": [],
      "source": []
    },
    {
      "cell_type": "markdown",
      "id": "d1319a1c",
      "metadata": {
        "id": "d1319a1c"
      },
      "source": [
        "### Combinando diferentes dataframes em um único gráfico\n",
        "\n",
        "O método `.plot` retorna um objeto matplotlib Axes, que pode então ser reutilizado para adicionar camadas adicionais ao gráfico com a palavra-chave `ax`:\n",
        "\n",
        "Como exemplo, vamos determinar os centróides dos setores censitários urbanos de Teresina e *plotá-los* no mesmo mapa."
      ]
    },
    {
      "cell_type": "code",
      "execution_count": null,
      "id": "d789f1db",
      "metadata": {
        "id": "d789f1db"
      },
      "outputs": [],
      "source": []
    },
    {
      "cell_type": "markdown",
      "id": "c9418b8d",
      "metadata": {
        "id": "c9418b8d"
      },
      "source": [
        "## Mapas interativos"
      ]
    },
    {
      "cell_type": "markdown",
      "id": "5cf65868",
      "metadata": {
        "id": "5cf65868"
      },
      "source": [
        "Outra forma de visualização de dados geoespaciais é através de bibliotecas de visualizações de mapas interativos baseadas na web. Existem várias bibliotecas com essa finalidade.\n",
        "\n",
        "Utilizaremos a biblioteca Folium, uma biblioteca Python que possibilita a visualização geográfica interativa de dados espaciais através do \\$Leaflet.js.\n",
        "> *Leaflet.js* é uma biblioteca JavaScript de código aberto usada para construir mapas interativos e *mobile-friendly*. Ela utiliza dados do *OpenStreetMaps* para construir a projeção de mapas detalhados contendo informações de vias e demarcações de locais e transportes públicos"
      ]
    },
    {
      "cell_type": "code",
      "execution_count": null,
      "id": "4aaad67c",
      "metadata": {
        "id": "4aaad67c"
      },
      "outputs": [],
      "source": [
        "import folium"
      ]
    },
    {
      "cell_type": "markdown",
      "id": "151c1d3a",
      "metadata": {
        "id": "151c1d3a"
      },
      "source": [
        "Criando um mapa interativo com o *folium*"
      ]
    },
    {
      "cell_type": "code",
      "execution_count": null,
      "id": "636a0dfa",
      "metadata": {
        "id": "636a0dfa"
      },
      "outputs": [],
      "source": [
        "mapa_df = folium.Map(\n",
        "  location=[-21.187, -47.834],\n",
        "  zoom_start = 14,\n",
        ")\n",
        "mapa_df"
      ]
    },
    {
      "cell_type": "markdown",
      "id": "c1f456f7",
      "metadata": {
        "id": "c1f456f7"
      },
      "source": [
        "#### Adicionando um **Marker**"
      ]
    },
    {
      "cell_type": "code",
      "execution_count": null,
      "id": "f4c36f13",
      "metadata": {
        "id": "f4c36f13"
      },
      "outputs": [],
      "source": []
    },
    {
      "cell_type": "code",
      "source": [],
      "metadata": {
        "id": "9bOwq4cRMw3L"
      },
      "id": "9bOwq4cRMw3L",
      "execution_count": null,
      "outputs": []
    },
    {
      "cell_type": "markdown",
      "id": "a0a4e67f",
      "metadata": {
        "id": "a0a4e67f"
      },
      "source": [
        "#### **Markers** personalizados"
      ]
    },
    {
      "cell_type": "code",
      "execution_count": null,
      "id": "d82606e4",
      "metadata": {
        "id": "d82606e4"
      },
      "outputs": [],
      "source": [
        "# https://fontawesome.com/icons?d=gallery\n",
        "\n"
      ]
    },
    {
      "cell_type": "markdown",
      "id": "feb88bd8",
      "metadata": {
        "id": "feb88bd8"
      },
      "source": [
        "### Adicionando outras visualizações de mapas"
      ]
    },
    {
      "cell_type": "code",
      "execution_count": null,
      "id": "8ed8b871",
      "metadata": {
        "scrolled": false,
        "id": "8ed8b871"
      },
      "outputs": [],
      "source": [
        "#tile custon 1\n",
        "attr = (\n",
        "    'contributors, &copy; <a href=\"https://github.com/cyclosm/cyclosm-cartocss-style/releases\" title=\"CyclOSM - Open Bicycle render\">CyclOSM</a>',\n",
        "    '&copy; <a href=\"https://www.openstreetmap.org/copyright\">OpenStreetMap</a> '\n",
        ")\n",
        "tiles = 'https://{s}.tile-cyclosm.openstreetmap.fr/cyclosm/{z}/{x}/{y}.png'\n",
        "\n",
        "#tile custon 2\n",
        "attr_2 = (\n",
        "    'Tiles &copy; Esri &mdash; Source: Esri, i-cubed, USDA, USGS, AEX, GeoEye, Getmapping, Aerogrid, IGN, IGP, UPR-EGP, and the GIS User Community'\n",
        ")\n",
        "tiles_2 = 'https://server.arcgisonline.com/ArcGIS/rest/services/World_Imagery/MapServer/tile/{z}/{y}/{x}'\n",
        "\n",
        "#tile custon google\n",
        "attr_google = (\n",
        "    'Google Maps &copy;',\n",
        "    '&copy; <a href=\"https://www.openstreetmap.org/copyright\">OpenStreetMap</a> '\n",
        ")\n",
        "tiles_google = 'http://mt1.google.com/vt?lyrs=m&x={x}&y={y}&z={z}'\n",
        "\n",
        "#tile custon google\n",
        "attr_google_2 = (\n",
        "    'Google Maps &copy;',\n",
        "    '&copy; <a href=\"https://www.openstreetmap.org/copyright\">OpenStreetMap</a> '\n",
        ")\n",
        "tiles_google_2 = 'http://mt1.google.com/vt?lyrs=s,h&x={x}&y={y}&z={z}'\n"
      ]
    },
    {
      "cell_type": "code",
      "execution_count": null,
      "id": "f03b7a15",
      "metadata": {
        "id": "f03b7a15"
      },
      "outputs": [],
      "source": []
    },
    {
      "cell_type": "code",
      "execution_count": null,
      "id": "f73ab217",
      "metadata": {
        "id": "f73ab217"
      },
      "outputs": [],
      "source": []
    },
    {
      "cell_type": "markdown",
      "id": "d2ce2848",
      "metadata": {
        "id": "d2ce2848"
      },
      "source": [
        "### Criando pontos aleatórios"
      ]
    },
    {
      "cell_type": "code",
      "execution_count": null,
      "id": "5ba1ac71",
      "metadata": {
        "id": "5ba1ac71"
      },
      "outputs": [],
      "source": [
        "import random\n",
        "\n",
        "minx, miny, maxx, maxy = .bounds.iloc[0]\n",
        "\n",
        "cont = 0\n",
        "colecao_de_pontos = []\n",
        "\n",
        "while cont < 200:\n",
        "    p = Point(random.uniform(minx, maxx), random.uniform(miny, maxy))\n",
        "    if plano_piloto.contains(p).iloc[0]:\n",
        "        colecao_de_pontos.append({\n",
        "            'latlong': (p.y, p.x),\n",
        "            'geometry': p\n",
        "        })\n",
        "        cont += 1\n",
        "\n",
        "pontos_aleatorios = gpd.GeoDataFrame(colecao_de_pontos, crs = setores_censitarios_plano_piloto.crs)\n",
        "pontos_aleatorios.head()"
      ]
    },
    {
      "cell_type": "markdown",
      "id": "f23208c5",
      "metadata": {
        "id": "f23208c5"
      },
      "source": [
        "### Adicionando esse conjunto de pontos em um mapa interativo"
      ]
    },
    {
      "cell_type": "code",
      "execution_count": null,
      "id": "78f4ab90",
      "metadata": {
        "id": "78f4ab90"
      },
      "outputs": [],
      "source": [
        "mapa_df = folium.Map(\n",
        "  location=[-21.187, -47.834],\n",
        "  zoom_start = 14,\n",
        ")\n",
        "\n",
        "folium.GeoJson(\n",
        "    pontos_aleatorios,\n",
        "    marker= folium.Marker(\n",
        "        icon=folium.Icon(\n",
        "            color=\"black\",\n",
        "            prefix='fa',\n",
        "            icon='bug'\n",
        "        )\n",
        "    )\n",
        ").add_to(mapa_df)\n",
        "\n",
        "mapa_df"
      ]
    },
    {
      "cell_type": "markdown",
      "id": "03145a08",
      "metadata": {
        "id": "03145a08"
      },
      "source": [
        "### Agrupando *markers*"
      ]
    },
    {
      "cell_type": "code",
      "execution_count": null,
      "id": "51c65bc7",
      "metadata": {
        "id": "51c65bc7"
      },
      "outputs": [],
      "source": [
        "from folium.plugins import MarkerCluster\n",
        "\n",
        "mapa_df = folium.Map(\n",
        "  location=[-21.187, -47.834],\n",
        "  zoom_start = 14,\n",
        ")\n",
        "\n",
        "marker_cluster = MarkerCluster().add_to(mapa_df)\n",
        "\n",
        "folium.GeoJson(\n",
        "    pontos_aleatorios,\n",
        "    marker= folium.Marker(\n",
        "        icon=folium.Icon(\n",
        "            color=\"black\",\n",
        "            prefix='fa',\n",
        "            icon='bug'\n",
        "        )\n",
        "    )\n",
        ").add_to(marker_cluster)\n",
        "\n",
        "mapa_df"
      ]
    },
    {
      "cell_type": "markdown",
      "id": "2ccf7bf5",
      "metadata": {
        "id": "2ccf7bf5"
      },
      "source": [
        "### *HeatMaps*"
      ]
    },
    {
      "cell_type": "code",
      "execution_count": null,
      "id": "d82eebae",
      "metadata": {
        "id": "d82eebae"
      },
      "outputs": [],
      "source": [
        "from folium.plugins import HeatMap\n",
        "\n",
        "mapa_df = folium.Map(\n",
        "  location=[-21.187, -47.834],\n",
        "  zoom_start = 14,\n",
        ")\n",
        "\n",
        "HeatMap(pontos_aleatorios['latlong'].tolist()).add_to(mapa_df)\n",
        "mapa_df"
      ]
    },
    {
      "cell_type": "markdown",
      "id": "97298473",
      "metadata": {
        "id": "97298473"
      },
      "source": [
        "### Mapa coroplético com o folium"
      ]
    },
    {
      "cell_type": "code",
      "execution_count": null,
      "id": "a4f5eb6a",
      "metadata": {
        "scrolled": false,
        "id": "a4f5eb6a"
      },
      "outputs": [],
      "source": [
        "mapa_df = folium.Map(\n",
        "  location=[-21.187, -47.834],\n",
        "  zoom_start = 14,\n",
        ")\n",
        "\n",
        "folium.Choropleth(\n",
        "    geo_data = ,\n",
        "    data = [[\"code_tract\", \"seg_tipo_u\"]],\n",
        "    columns = [\"code_tract\", \"seg_tipo_u\"],\n",
        "    key_on = \"feature.properties.code_tract\",\n",
        "    fill_color = \"YlOrRd\",\n",
        "    fill_opacity = 0.3,\n",
        "    legend_name = \"Escala de Cor para Área dos Setores Censitários\",\n",
        ").add_to(mapa_df)\n",
        "\n",
        "mapa_df"
      ]
    },
    {
      "cell_type": "markdown",
      "id": "155eb93f",
      "metadata": {
        "id": "155eb93f"
      },
      "source": [
        "---\n",
        "\n",
        "__Licença__\n",
        "\n",
        "![](img/by-nc.svg)\n",
        "\n",
        "*This work is licensed under the Creative Commons Attribution-NonCommercial 4.0 International License. To view a copy of this license, visit http://creativecommons.org/licenses/by-nc/4.0/ or send a letter to Creative Commons, PO Box 1866, Mountain View, CA 94042, USA.*"
      ]
    },
    {
      "cell_type": "markdown",
      "source": [
        "<img src=\"https://images2.imgbox.com/6a/82/dZdDGMNe_o.png\" width=\"80%\"/>"
      ],
      "metadata": {
        "id": "P-YuuErXaIRO"
      },
      "id": "P-YuuErXaIRO"
    }
  ],
  "metadata": {
    "kernelspec": {
      "display_name": "Python 3 (ipykernel)",
      "language": "python",
      "name": "python3"
    },
    "language_info": {
      "codemirror_mode": {
        "name": "ipython",
        "version": 3
      },
      "file_extension": ".py",
      "mimetype": "text/x-python",
      "name": "python",
      "nbconvert_exporter": "python",
      "pygments_lexer": "ipython3",
      "version": "3.9.16"
    },
    "colab": {
      "provenance": [],
      "include_colab_link": true
    }
  },
  "nbformat": 4,
  "nbformat_minor": 5
}