{
 "cells": [
  {
   "cell_type": "markdown",
   "metadata": {
    "collapsed": true,
    "deletable": true,
    "editable": true
   },
   "source": [
    "# _Word Embeddings_\n",
    "\n",
    "Neste notebook testaremos o modelo gerado em word2vec_train.ipynb em uma tarefa intrínseca de analogia semântica usando álgebra vetorial."
   ]
  },
  {
   "cell_type": "code",
   "execution_count": 1,
   "metadata": {
    "collapsed": true,
    "deletable": true,
    "editable": true
   },
   "outputs": [],
   "source": [
    "import gensim"
   ]
  },
  {
   "cell_type": "markdown",
   "metadata": {
    "deletable": true,
    "editable": true
   },
   "source": [
    "Caminho onde salvamos o modelo treinado."
   ]
  },
  {
   "cell_type": "code",
   "execution_count": 2,
   "metadata": {
    "collapsed": true,
    "deletable": true,
    "editable": true
   },
   "outputs": [],
   "source": [
    "#import data\n",
    "outp = \"model/word2vec/wiki.pt-br.word2vec.model\""
   ]
  },
  {
   "cell_type": "markdown",
   "metadata": {
    "deletable": true,
    "editable": true
   },
   "source": [
    "Load do modelo treinado. Trata-se de arquivo .model gerado no momento do .save do notebook anterior."
   ]
  },
  {
   "cell_type": "code",
   "execution_count": 3,
   "metadata": {
    "collapsed": false,
    "deletable": true,
    "editable": true
   },
   "outputs": [],
   "source": [
    "#Load data\n",
    "model = gensim.models.Word2Vec.load(outp)"
   ]
  },
  {
   "cell_type": "markdown",
   "metadata": {
    "deletable": true,
    "editable": true
   },
   "source": [
    "## Inferências\n",
    "\n",
    "A similaridade semântica entre duas palavras pode ser dada pelo cosseno entre seus vetores correspondentes. Em geral, o cosseno é definido como na equação abaixo, onde $\\vec{x}$ e $\\vec{y}$ são os vetores sendo comparados. Esse valor mede a distância entre os diferentes contextos de ocorrência das palavras que estão sendo comparadas.\n",
    "\n",
    "$$ cos(\\vec{x}|\\vec{y}) = \\frac{\\vec{x}.\\vec{y}}{|\\vec{x}||\\vec{y}|} $$\n",
    "\n",
    "* **most_similar**: Calcula a similaridade de cosseno entre uma média simples dos vetores de peso das palavras dadas e os vetores de peso de cada uma."
   ]
  },
  {
   "cell_type": "code",
   "execution_count": 4,
   "metadata": {
    "collapsed": false,
    "deletable": true,
    "editable": true
   },
   "outputs": [
    {
     "data": {
      "text/plain": [
       "[('rainha', 0.563403844833374),\n",
       " ('esposa', 0.5476986765861511),\n",
       " ('concubina', 0.5263887643814087),\n",
       " ('consorte', 0.4897775650024414),\n",
       " ('infanta', 0.4890763759613037),\n",
       " ('madrasta', 0.4801637530326843),\n",
       " ('viúva', 0.47895339131355286),\n",
       " ('princesa', 0.4750368297100067),\n",
       " ('sobrinha', 0.4735983610153198),\n",
       " ('filha', 0.46588921546936035)]"
      ]
     },
     "execution_count": 4,
     "metadata": {},
     "output_type": "execute_result"
    }
   ],
   "source": [
    "model.wv.most_similar(positive=['rei', 'mulher'], negative=['homem'])"
   ]
  },
  {
   "cell_type": "code",
   "execution_count": 5,
   "metadata": {
    "collapsed": false,
    "deletable": true,
    "editable": true
   },
   "outputs": [
    {
     "data": {
      "text/plain": [
       "[('dilma', 0.5366573333740234),\n",
       " ('rousseff', 0.4682416617870331),\n",
       " ('senadora', 0.4520450830459595),\n",
       " ('roussef', 0.42890864610671997),\n",
       " ('presidenta', 0.4184250831604004),\n",
       " ('fhc', 0.4024085998535156),\n",
       " ('maisa', 0.4022766947746277),\n",
       " ('advogada', 0.3956421911716461),\n",
       " ('petista', 0.3870047330856323),\n",
       " ('enteada', 0.3752862811088562)]"
      ]
     },
     "execution_count": 5,
     "metadata": {},
     "output_type": "execute_result"
    }
   ],
   "source": [
    "model.wv.most_similar(positive=['lula', 'mulher'], negative=['homem'])"
   ]
  },
  {
   "cell_type": "code",
   "execution_count": 6,
   "metadata": {
    "collapsed": false,
    "deletable": true,
    "editable": true
   },
   "outputs": [
    {
     "data": {
      "text/plain": [
       "[('advogada', 0.674094557762146),\n",
       " ('empresária', 0.5596073269844055),\n",
       " ('esposa', 0.5396914482116699),\n",
       " ('juíza', 0.5330030918121338),\n",
       " ('psicóloga', 0.5321911573410034),\n",
       " ('socialite', 0.5081355571746826),\n",
       " ('enteada', 0.49844270944595337),\n",
       " ('secretária', 0.4902417063713074),\n",
       " ('socióloga', 0.4889090657234192),\n",
       " ('enfermeira', 0.48639440536499023)]"
      ]
     },
     "execution_count": 6,
     "metadata": {},
     "output_type": "execute_result"
    }
   ],
   "source": [
    "model.wv.most_similar(positive=['advogado', 'mulher'], negative=['homem'])"
   ]
  },
  {
   "cell_type": "code",
   "execution_count": 7,
   "metadata": {
    "collapsed": false,
    "deletable": true,
    "editable": true
   },
   "outputs": [
    {
     "data": {
      "text/plain": [
       "[('enfermeira', 0.5709562301635742),\n",
       " ('psicóloga', 0.5430200695991516),\n",
       " ('parteira', 0.5426148176193237),\n",
       " ('cirurgiã', 0.5260206460952759),\n",
       " ('pediatra', 0.5143420696258545),\n",
       " ('ginecologista', 0.5094795227050781),\n",
       " ('obstetra', 0.5006735920906067),\n",
       " ('esposa', 0.48979347944259644),\n",
       " ('advogada', 0.48630261421203613),\n",
       " ('psicoterapeuta', 0.4805002808570862)]"
      ]
     },
     "execution_count": 7,
     "metadata": {},
     "output_type": "execute_result"
    }
   ],
   "source": [
    "model.wv.most_similar(positive=['médico', 'mulher'], negative=['homem'])"
   ]
  },
  {
   "cell_type": "code",
   "execution_count": 8,
   "metadata": {
    "collapsed": false,
    "deletable": true,
    "editable": true
   },
   "outputs": [
    {
     "data": {
      "text/plain": [
       "[('programadora', 0.43346863985061646),\n",
       " ('empresária', 0.4250830113887787),\n",
       " ('designer', 0.424478143453598),\n",
       " ('desenvolvedor', 0.42184334993362427),\n",
       " ('fotógrafa', 0.42174917459487915),\n",
       " ('maquiadora', 0.39872074127197266),\n",
       " ('psicoterapeuta', 0.3951054811477661),\n",
       " ('musicista', 0.3945704698562622),\n",
       " ('interface', 0.3872838020324707),\n",
       " ('api', 0.3847675919532776)]"
      ]
     },
     "execution_count": 8,
     "metadata": {},
     "output_type": "execute_result"
    }
   ],
   "source": [
    "model.wv.most_similar(positive=['programador', 'mulher'], negative=['homem'])"
   ]
  },
  {
   "cell_type": "code",
   "execution_count": 9,
   "metadata": {
    "collapsed": false,
    "deletable": true,
    "editable": true
   },
   "outputs": [
    {
     "data": {
      "text/plain": [
       "[('paris', 0.549514889717102),\n",
       " ('marselha', 0.5035914778709412),\n",
       " ('picardia', 0.4949594736099243),\n",
       " ('aquitânia', 0.49078822135925293),\n",
       " ('bordéus', 0.4830194413661957),\n",
       " ('provença', 0.47275757789611816),\n",
       " ('alsácia', 0.4636075496673584),\n",
       " ('dijon', 0.4623123109340668),\n",
       " ('amiens', 0.46183884143829346),\n",
       " ('montpellier', 0.46097874641418457)]"
      ]
     },
     "execution_count": 9,
     "metadata": {},
     "output_type": "execute_result"
    }
   ],
   "source": [
    "model.wv.most_similar(positive=['frança', 'lisboa'], negative=['portugal'])"
   ]
  },
  {
   "cell_type": "code",
   "execution_count": 10,
   "metadata": {
    "collapsed": false,
    "deletable": true,
    "editable": true
   },
   "outputs": [
    {
     "data": {
      "text/plain": [
       "[('tutora', 0.4640021324157715),\n",
       " ('sogra', 0.462051659822464),\n",
       " ('enteada', 0.45133066177368164),\n",
       " ('esposa', 0.44530925154685974),\n",
       " ('prostituta', 0.43312495946884155),\n",
       " ('companheira', 0.43247896432876587),\n",
       " ('amargurada', 0.43100398778915405),\n",
       " ('orgulhosa', 0.43008291721343994),\n",
       " ('enfermeira', 0.4280928671360016),\n",
       " ('solteirona', 0.4227881133556366)]"
      ]
     },
     "execution_count": 10,
     "metadata": {},
     "output_type": "execute_result"
    }
   ],
   "source": [
    "model.wv.most_similar(positive=['insuportável', 'mulher'], negative=['homem'])"
   ]
  },
  {
   "cell_type": "code",
   "execution_count": 11,
   "metadata": {
    "collapsed": false,
    "deletable": true,
    "editable": true
   },
   "outputs": [
    {
     "data": {
      "text/plain": [
       "[('minnie', 0.480533242225647),\n",
       " ('namorada', 0.4215421974658966),\n",
       " ('tia', 0.42032378911972046),\n",
       " ('patty', 0.4116852879524231),\n",
       " ('srta', 0.40983036160469055),\n",
       " ('enfermeira', 0.40937376022338867),\n",
       " ('mabel', 0.40793412923812866),\n",
       " ('garotinha', 0.4013059735298157),\n",
       " ('esposa', 0.40110117197036743),\n",
       " ('sally', 0.4004097580909729)]"
      ]
     },
     "execution_count": 11,
     "metadata": {},
     "output_type": "execute_result"
    }
   ],
   "source": [
    "model.wv.most_similar(positive=['mickey', 'mulher'], negative=['homem'])"
   ]
  },
  {
   "cell_type": "code",
   "execution_count": 12,
   "metadata": {
    "collapsed": false,
    "deletable": true,
    "editable": true
   },
   "outputs": [
    {
     "data": {
      "text/plain": [
       "[('lg', 0.7303698062896729),\n",
       " ('motorola', 0.6857724189758301),\n",
       " ('electronics', 0.6479246616363525),\n",
       " ('panasonic', 0.6459462642669678),\n",
       " ('lenovo', 0.6419277787208557),\n",
       " ('anycall', 0.6419171094894409),\n",
       " ('asus', 0.6349570155143738),\n",
       " ('daewoo', 0.6341103315353394),\n",
       " ('bluefangs', 0.6229230165481567),\n",
       " ('hyundai', 0.6224716901779175)]"
      ]
     },
     "execution_count": 12,
     "metadata": {},
     "output_type": "execute_result"
    }
   ],
   "source": [
    "model.wv.most_similar(positive=['samsung'])"
   ]
  },
  {
   "cell_type": "code",
   "execution_count": 13,
   "metadata": {
    "collapsed": false,
    "deletable": true,
    "editable": true
   },
   "outputs": [
    {
     "data": {
      "text/plain": [
       "[('keynesianismo', 0.4925394654273987),\n",
       " ('neoliberalismo', 0.49050548672676086),\n",
       " ('marxismo', 0.48223426938056946),\n",
       " ('corporativismo', 0.4770309031009674),\n",
       " ('coletivismo', 0.4740025997161865),\n",
       " ('imperialismo', 0.47027409076690674),\n",
       " ('industrialismo', 0.4685702919960022),\n",
       " ('historicismo', 0.4652341604232788),\n",
       " ('socialismo', 0.46425700187683105),\n",
       " ('estruturalismo', 0.4628419578075409)]"
      ]
     },
     "execution_count": 13,
     "metadata": {},
     "output_type": "execute_result"
    }
   ],
   "source": [
    "model.wv.most_similar(positive=['capitalismo'], negative=['dinheiro'])"
   ]
  },
  {
   "cell_type": "code",
   "execution_count": 14,
   "metadata": {
    "collapsed": false,
    "deletable": true,
    "editable": true
   },
   "outputs": [
    {
     "data": {
      "text/plain": [
       "[('hérault', 0.4355013072490692),\n",
       " ('languedoc', 0.43341681361198425),\n",
       " ('périgord', 0.4287109673023224),\n",
       " ('albret', 0.4202360510826111),\n",
       " ('brissac', 0.4153077006340027),\n",
       " ('cotterêts', 0.41490107774734497),\n",
       " ('roussillon', 0.4148673117160797),\n",
       " ('albi', 0.41349804401397705),\n",
       " ('tonnay', 0.41253000497817993),\n",
       " ('coypel', 0.40943560004234314)]"
      ]
     },
     "execution_count": 14,
     "metadata": {},
     "output_type": "execute_result"
    }
   ],
   "source": [
    "model.wv.most_similar(positive=['frança'], negative=['alemanha'])"
   ]
  }
 ],
 "metadata": {
  "kernelspec": {
   "display_name": "Python 3",
   "language": "python",
   "name": "python3"
  },
  "language_info": {
   "codemirror_mode": {
    "name": "ipython",
    "version": 3
   },
   "file_extension": ".py",
   "mimetype": "text/x-python",
   "name": "python",
   "nbconvert_exporter": "python",
   "pygments_lexer": "ipython3",
   "version": "3.6.3"
  },
  "widgets": {
   "state": {},
   "version": "1.1.1"
  }
 },
 "nbformat": 4,
 "nbformat_minor": 0
}
