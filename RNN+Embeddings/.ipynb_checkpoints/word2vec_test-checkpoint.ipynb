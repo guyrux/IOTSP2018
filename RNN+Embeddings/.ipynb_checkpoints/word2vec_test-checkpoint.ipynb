{
 "cells": [
  {
   "cell_type": "markdown",
   "metadata": {
    "collapsed": true,
    "deletable": true,
    "editable": true
   },
   "source": [
    "# _Word Embeddings_\n",
    "\n",
    "Neste notebook testaremos o modelo gerado em word2vec_train.ipynb em uma tarefa intrínseca de analogia semântica usando álgebra vetorial."
   ]
  },
  {
   "cell_type": "code",
   "execution_count": 3,
   "metadata": {
    "collapsed": true,
    "deletable": true,
    "editable": true
   },
   "outputs": [],
   "source": [
    "import gensim\n",
    "import os"
   ]
  },
  {
   "cell_type": "markdown",
   "metadata": {
    "deletable": true,
    "editable": true
   },
   "source": [
    "Caminho onde salvamos o modelo treinado."
   ]
  },
  {
   "cell_type": "code",
   "execution_count": 4,
   "metadata": {
    "collapsed": false,
    "deletable": true,
    "editable": true
   },
   "outputs": [],
   "source": [
    "#import data\n",
    "#outp = \"model/word2vec/wiki.pt-br.word2vec.model\"\n",
    "outp = os.path.join('model', 'word2vec', 'wiki.pt-br.word2vec.model')"
   ]
  },
  {
   "cell_type": "markdown",
   "metadata": {
    "deletable": true,
    "editable": true
   },
   "source": [
    "Load do modelo treinado. Trata-se de arquivo .model gerado no momento do .save do notebook anterior."
   ]
  },
  {
   "cell_type": "code",
   "execution_count": 5,
   "metadata": {
    "collapsed": false,
    "deletable": true,
    "editable": true
   },
   "outputs": [],
   "source": [
    "#Load data\n",
    "model = gensim.models.Word2Vec.load(outp)"
   ]
  },
  {
   "cell_type": "markdown",
   "metadata": {
    "deletable": true,
    "editable": true
   },
   "source": [
    "## Inferências\n",
    "\n",
    "A similaridade semântica entre duas palavras pode ser dada pelo cosseno entre seus vetores correspondentes. Em geral, o cosseno é definido como na equação abaixo, onde $\\vec{x}$ e $\\vec{y}$ são os vetores sendo comparados. Esse valor mede a distância entre os diferentes contextos de ocorrência das palavras que estão sendo comparadas.\n",
    "\n",
    "$$ cos(\\vec{x}|\\vec{y}) = \\frac{\\vec{x}.\\vec{y}}{|\\vec{x}||\\vec{y}|} $$\n",
    "\n",
    "* **most_similar**: Calcula a similaridade de cosseno entre uma média simples dos vetores de peso das palavras dadas e os vetores de peso de cada uma."
   ]
  },
  {
   "cell_type": "code",
   "execution_count": 6,
   "metadata": {
    "collapsed": false,
    "deletable": true,
    "editable": true
   },
   "outputs": [
    {
     "data": {
      "text/plain": [
       "[('rainha', 0.5728097558021545),\n",
       " ('infanta', 0.5286685824394226),\n",
       " ('princesa', 0.5110589265823364),\n",
       " ('esposa', 0.504840612411499),\n",
       " ('concubina', 0.49223142862319946),\n",
       " ('herdeira', 0.4909839928150177),\n",
       " ('coroação', 0.4820205569267273),\n",
       " ('neta', 0.4780043959617615),\n",
       " ('sobrinha', 0.4748428463935852),\n",
       " ('consorte', 0.47434908151626587)]"
      ]
     },
     "execution_count": 6,
     "metadata": {},
     "output_type": "execute_result"
    }
   ],
   "source": [
    "model.wv.most_similar(positive=['rei', 'mulher'], negative=['homem'])"
   ]
  },
  {
   "cell_type": "code",
   "execution_count": 7,
   "metadata": {
    "collapsed": false,
    "deletable": true,
    "editable": true
   },
   "outputs": [
    {
     "data": {
      "text/plain": [
       "[('dilma', 0.6301570534706116),\n",
       " ('rousseff', 0.6011762619018555),\n",
       " ('presidenta', 0.5419915318489075),\n",
       " ('erundina', 0.5370290279388428),\n",
       " ('candidata', 0.5196089744567871),\n",
       " ('senadora', 0.5106953382492065),\n",
       " ('roussef', 0.5073909759521484),\n",
       " ('fhc', 0.502558171749115),\n",
       " ('petista', 0.5005642175674438),\n",
       " ('kirchner', 0.49782586097717285)]"
      ]
     },
     "execution_count": 7,
     "metadata": {},
     "output_type": "execute_result"
    }
   ],
   "source": [
    "model.wv.most_similar(positive=['lula', 'mulher'], negative=['homem'])"
   ]
  },
  {
   "cell_type": "code",
   "execution_count": 8,
   "metadata": {
    "collapsed": false,
    "deletable": true,
    "editable": true
   },
   "outputs": [
    {
     "data": {
      "text/plain": [
       "[('advogada', 0.5967177748680115),\n",
       " ('secretária', 0.5743982791900635),\n",
       " ('professora', 0.5717214941978455),\n",
       " ('enfermeira', 0.5600820183753967),\n",
       " ('empresária', 0.5504055023193359),\n",
       " ('juíza', 0.5398902893066406),\n",
       " ('diretora', 0.5245388746261597),\n",
       " ('psicóloga', 0.5145259499549866),\n",
       " ('vereadora', 0.514488697052002),\n",
       " ('conselheira', 0.5137046575546265)]"
      ]
     },
     "execution_count": 8,
     "metadata": {},
     "output_type": "execute_result"
    }
   ],
   "source": [
    "model.wv.most_similar(positive=['advogado', 'mulher'], negative=['homem'])"
   ]
  },
  {
   "cell_type": "code",
   "execution_count": 9,
   "metadata": {
    "collapsed": false,
    "deletable": true,
    "editable": true
   },
   "outputs": [
    {
     "data": {
      "text/plain": [
       "[('enfermeira', 0.5861247777938843),\n",
       " ('professora', 0.5441340804100037),\n",
       " ('maternidade', 0.49257519841194153),\n",
       " ('clínica', 0.47466084361076355),\n",
       " ('aluna', 0.46771949529647827),\n",
       " ('governanta', 0.46505677700042725),\n",
       " ('odontológico', 0.46411725878715515),\n",
       " ('freira', 0.4632118046283722),\n",
       " ('cirurgia', 0.46127355098724365),\n",
       " ('sanitarista', 0.45934125781059265)]"
      ]
     },
     "execution_count": 9,
     "metadata": {},
     "output_type": "execute_result"
    }
   ],
   "source": [
    "model.wv.most_similar(positive=['médico', 'mulher'], negative=['homem'])"
   ]
  },
  {
   "cell_type": "code",
   "execution_count": 10,
   "metadata": {
    "collapsed": false,
    "deletable": true,
    "editable": true
   },
   "outputs": [
    {
     "data": {
      "text/plain": [
       "[('programadora', 0.5180810689926147),\n",
       " ('desenvolvedora', 0.4670116901397705),\n",
       " ('desktop', 0.45217832922935486),\n",
       " ('blender', 0.4490089416503906),\n",
       " ('fotógrafa', 0.44877350330352783),\n",
       " ('margrit', 0.4431842565536499),\n",
       " ('empresária', 0.44247788190841675),\n",
       " ('driver', 0.43612128496170044),\n",
       " ('desenvolvedor', 0.43602490425109863),\n",
       " ('designer', 0.4357184171676636)]"
      ]
     },
     "execution_count": 10,
     "metadata": {},
     "output_type": "execute_result"
    }
   ],
   "source": [
    "model.wv.most_similar(positive=['programador', 'mulher'], negative=['homem'])"
   ]
  },
  {
   "cell_type": "code",
   "execution_count": 11,
   "metadata": {
    "collapsed": false,
    "deletable": true,
    "editable": true
   },
   "outputs": [
    {
     "data": {
      "text/plain": [
       "[('paris', 0.5455796718597412),\n",
       " ('normandia', 0.4577951431274414),\n",
       " ('estrasburgo', 0.44294026494026184),\n",
       " ('aquitânia', 0.41559627652168274),\n",
       " ('provença', 0.41353923082351685),\n",
       " ('lyon', 0.4129228889942169),\n",
       " ('flandres', 0.4041200280189514),\n",
       " ('toulouse', 0.40386873483657837),\n",
       " ('bordéus', 0.39926737546920776),\n",
       " ('marselha', 0.39725032448768616)]"
      ]
     },
     "execution_count": 11,
     "metadata": {},
     "output_type": "execute_result"
    }
   ],
   "source": [
    "model.wv.most_similar(positive=['frança', 'lisboa'], negative=['portugal'])"
   ]
  },
  {
   "cell_type": "code",
   "execution_count": 12,
   "metadata": {
    "collapsed": false,
    "deletable": true,
    "editable": true
   },
   "outputs": [
    {
     "data": {
      "text/plain": [
       "[('companheira', 0.5332030057907104),\n",
       " ('governanta', 0.5135449171066284),\n",
       " ('noiva', 0.5034705400466919),\n",
       " ('madrasta', 0.49818557500839233),\n",
       " ('neta', 0.49594759941101074),\n",
       " ('sogra', 0.4903968572616577),\n",
       " ('tia', 0.4804190993309021),\n",
       " ('prostituta', 0.4723840355873108),\n",
       " ('esposa', 0.4710380434989929),\n",
       " ('sobrinha', 0.46204090118408203)]"
      ]
     },
     "execution_count": 12,
     "metadata": {},
     "output_type": "execute_result"
    }
   ],
   "source": [
    "model.wv.most_similar(positive=['insuportável', 'mulher'], negative=['homem'])"
   ]
  },
  {
   "cell_type": "code",
   "execution_count": 13,
   "metadata": {
    "collapsed": false,
    "deletable": true,
    "editable": true
   },
   "outputs": [
    {
     "data": {
      "text/plain": [
       "[('minnie', 0.549763560295105),\n",
       " ('carol', 0.5411068201065063),\n",
       " ('namorada', 0.5338138341903687),\n",
       " ('kelly', 0.521699070930481),\n",
       " ('donna', 0.5208052396774292),\n",
       " ('sitcom', 0.5154778957366943),\n",
       " ('lady', 0.5107433795928955),\n",
       " ('natasha', 0.5052558183670044),\n",
       " ('fotógrafa', 0.5045852661132812),\n",
       " ('barbie', 0.5028849840164185)]"
      ]
     },
     "execution_count": 13,
     "metadata": {},
     "output_type": "execute_result"
    }
   ],
   "source": [
    "model.wv.most_similar(positive=['mickey', 'mulher'], negative=['homem'])"
   ]
  },
  {
   "cell_type": "code",
   "execution_count": 14,
   "metadata": {
    "collapsed": false,
    "deletable": true,
    "editable": true
   },
   "outputs": [
    {
     "data": {
      "text/plain": [
       "[('industries', 0.8153011202812195),\n",
       " ('hyundai', 0.8119423985481262),\n",
       " ('panasonic', 0.7943166494369507),\n",
       " ('lg', 0.7743003964424133),\n",
       " ('aerospace', 0.7737675905227661),\n",
       " ('corp', 0.7616852521896362),\n",
       " ('corporation', 0.760970950126648),\n",
       " ('technologies', 0.7609294652938843),\n",
       " ('electronics', 0.7602411508560181),\n",
       " ('daewoo', 0.7590417861938477)]"
      ]
     },
     "execution_count": 14,
     "metadata": {},
     "output_type": "execute_result"
    }
   ],
   "source": [
    "model.wv.most_similar(positive=['samsung'])"
   ]
  },
  {
   "cell_type": "code",
   "execution_count": 15,
   "metadata": {
    "collapsed": false,
    "deletable": true,
    "editable": true
   },
   "outputs": [
    {
     "data": {
      "text/plain": [
       "[('marxismo', 0.5598196983337402),\n",
       " ('anarquismo', 0.558821976184845),\n",
       " ('sindicalismo', 0.549271821975708),\n",
       " ('estruturalismo', 0.5447481870651245),\n",
       " ('racionalismo', 0.5446571111679077),\n",
       " ('positivismo', 0.5377087593078613),\n",
       " ('marxista', 0.5304422378540039),\n",
       " ('juche', 0.5302650332450867),\n",
       " ('humanismo', 0.5284522175788879),\n",
       " ('utópico', 0.5283548831939697)]"
      ]
     },
     "execution_count": 15,
     "metadata": {},
     "output_type": "execute_result"
    }
   ],
   "source": [
    "model.wv.most_similar(positive=['capitalismo'], negative=['dinheiro'])"
   ]
  },
  {
   "cell_type": "code",
   "execution_count": 16,
   "metadata": {
    "collapsed": false,
    "deletable": true,
    "editable": true
   },
   "outputs": [
    {
     "data": {
      "text/plain": [
       "[('francês', 0.3407854437828064),\n",
       " ('navarra', 0.32652896642684937),\n",
       " ('condestável', 0.32290512323379517),\n",
       " ('guesclin', 0.322375625371933),\n",
       " ('jean', 0.3216290771961212),\n",
       " ('armagnac', 0.3080698251724243),\n",
       " ('saint', 0.30327075719833374),\n",
       " ('haro', 0.2970321774482727),\n",
       " ('jacques', 0.2939528822898865),\n",
       " ('brézé', 0.29166901111602783)]"
      ]
     },
     "execution_count": 16,
     "metadata": {},
     "output_type": "execute_result"
    }
   ],
   "source": [
    "model.wv.most_similar(positive=['frança'], negative=['alemanha'])"
   ]
  }
 ],
 "metadata": {
  "kernelspec": {
   "display_name": "Python 3",
   "language": "python",
   "name": "python3"
  },
  "language_info": {
   "codemirror_mode": {
    "name": "ipython",
    "version": 3
   },
   "file_extension": ".py",
   "mimetype": "text/x-python",
   "name": "python",
   "nbconvert_exporter": "python",
   "pygments_lexer": "ipython3",
   "version": "3.6.3"
  },
  "widgets": {
   "state": {},
   "version": "1.1.1"
  }
 },
 "nbformat": 4,
 "nbformat_minor": 0
}
